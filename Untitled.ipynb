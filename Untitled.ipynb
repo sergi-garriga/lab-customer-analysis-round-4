{
 "cells": [
  {
   "cell_type": "code",
   "execution_count": 1,
   "id": "42959708",
   "metadata": {},
   "outputs": [
    {
     "ename": "NameError",
     "evalue": "name 'numerical' is not defined",
     "output_type": "error",
     "traceback": [
      "\u001b[0;31m---------------------------------------------------------------------------\u001b[0m",
      "\u001b[0;31mNameError\u001b[0m                                 Traceback (most recent call last)",
      "Input \u001b[0;32mIn [1]\u001b[0m, in \u001b[0;36m<cell line: 5>\u001b[0;34m()\u001b[0m\n\u001b[1;32m      1\u001b[0m \u001b[38;5;66;03m# we apply the boxcox transformation to each column and compare the results.\u001b[39;00m\n\u001b[1;32m      2\u001b[0m \u001b[38;5;66;03m# the boxcox transformation is going to give error where there are 0 values. We need strictly positive values to run the transformation. \u001b[39;00m\n\u001b[1;32m      3\u001b[0m \u001b[38;5;66;03m# we will add an if statement to decide whether to run the boxcox or the boxcox special. \u001b[39;00m\n\u001b[0;32m----> 5\u001b[0m \u001b[38;5;28;01mfor\u001b[39;00m col \u001b[38;5;129;01min\u001b[39;00m \u001b[43mnumerical\u001b[49m\u001b[38;5;241m.\u001b[39mcolumns:\n\u001b[1;32m      6\u001b[0m     \u001b[38;5;28;01mif\u001b[39;00m numerical[col]\u001b[38;5;241m.\u001b[39mmin() \u001b[38;5;241m!=\u001b[39m \u001b[38;5;241m0\u001b[39m:\n\u001b[1;32m      7\u001b[0m         numerical[col] \u001b[38;5;241m=\u001b[39m boxcox(numerical[col], \u001b[38;5;241m0\u001b[39m)\n",
      "\u001b[0;31mNameError\u001b[0m: name 'numerical' is not defined"
     ]
    }
   ],
   "source": [
    "\n",
    "# we apply the boxcox transformation to each column and compare the results.\n",
    "# the boxcox transformation is going to give error where there are 0 values. We need strictly positive values to run the transformation. \n",
    "# we will add an if statement to decide whether to run the boxcox or the boxcox special. \n",
    "\n",
    "for col in numerical.columns:\n",
    "    if numerical[col].min() != 0:\n",
    "        numerical[col] = boxcox(numerical[col], 0)\n",
    "    else:\n",
    "        numerical[col] = boxcox1p(numerical[col], 0)\n",
    "    f, ax = plt.subplots(figsize=(15, 5))\n",
    "    plt.hist(numerical[col], bins = int(number_of_bins), color = \"goldenrod\", lw=0.5, ec=\"snow\", alpha=0.65, density=False)\n",
    "    plt.xlabel(col.upper(), fontweight=\"bold\", fontsize=10)\n",
    "    plt.show()\n",
    "\n",
    "# As the results are slightly appropiate only for the Costumer Lifetime Value, we might probably try different approaches for each feature.\n",
    "# For the Income feature, we will drop the zeros, because they are not significant distribution of income values. \n",
    "\n",
    "income_col_cleaned = numerical[\"Income\"].loc[(numerical[\"Income\"] != 0)]\n",
    "\n",
    "# apply the boxcox to the Income feature\n",
    "income_col_cleaned_boxcox = boxcox(income_col_cleaned, 0)\n",
    "\n",
    "# compare the results. Initialize the figure.\n",
    "\n",
    "plt.figure(figsize = [15, 5])\n",
    "\n",
    "# Subplot original.\n",
    "plt.subplot(1, 3, 1) # 1 row, 3 cols, subplot 1\n",
    "plt.hist(x=numerical[\"Income\"], bins = 100)\n",
    "\n",
    "# Subplot cleaned of zeros\n",
    "plt.subplot(1, 3, 2) # 1 row, 3 cols, subplot 2\n",
    "plt.hist(x=income_col_cleaned, bins = 100)\n",
    "\n",
    "# Subplot cleaned of zeros and boxcoxed.\n",
    "plt.subplot(1, 3, 3) # 1 row, 3 cols, subplot 3\n",
    "plt.hist(x=income_col_cleaned_boxcox, bins = 100)\n",
    "\n",
    "plt.show()"
   ]
  }
 ],
 "metadata": {
  "kernelspec": {
   "display_name": "Python 3 (ipykernel)",
   "language": "python",
   "name": "python3"
  },
  "language_info": {
   "codemirror_mode": {
    "name": "ipython",
    "version": 3
   },
   "file_extension": ".py",
   "mimetype": "text/x-python",
   "name": "python",
   "nbconvert_exporter": "python",
   "pygments_lexer": "ipython3",
   "version": "3.9.12"
  }
 },
 "nbformat": 4,
 "nbformat_minor": 5
}
